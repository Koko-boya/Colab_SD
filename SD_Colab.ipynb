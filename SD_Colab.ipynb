{
  "metadata": {
    "language_info": {
      "name": "python"
    },
    "kernelspec": {
      "name": "python3",
      "display_name": "Python 3"
    },
    "colab": {
      "provenance": [],
      "private_outputs": true
    },
    "accelerator": "GPU",
    "gpuClass": "standard"
  },
  "nbformat_minor": 0,
  "nbformat": 4,
  "cells": [
    {
      "cell_type": "markdown",
      "source": [
        "# **SD_Colab - Anything V3 Model** \n",
        "Start Here"
      ],
      "metadata": {
        "id": "u57EF79qXwav"
      }
    },
    {
      "cell_type": "code",
      "source": [
        "from google.colab import drive\n",
        "drive.mount( \"/content/drive/\")"
      ],
      "metadata": {
        "id": "RqcWM7-CfRdB"
      },
      "execution_count": null,
      "outputs": []
    },
    {
      "cell_type": "code",
      "source": [
        "#Fresh Run\n",
        "!pip install -q https://github.com/camenduru/stable-diffusion-webui-colab/releases/download/0.0.15/xformers-0.0.15.dev0+189828c.d20221207-cp38-cp38-linux_x86_64.whl\n",
        "\n",
        "!git clone https://github.com/camenduru/stable-diffusion-webui\n",
        "!git clone https://github.com/deforum-art/deforum-for-automatic1111-webui /content/stable-diffusion-webui/extensions/deforum-for-automatic1111-webui\n",
        "!git clone https://github.com/yfszzx/stable-diffusion-webui-images-browser /content/stable-diffusion-webui/extensions/stable-diffusion-webui-images-browser\n",
        "!git clone https://github.com/camenduru/stable-diffusion-webui-huggingface /content/stable-diffusion-webui/extensions/stable-diffusion-webui-huggingface\n",
        "\n",
        "%cd /content/drive/MyDrive\n",
        "\n",
        "from google.colab import files\n",
        "import os\n",
        "\n",
        "if not os.path.exists('SDMODEL/Anything-V3.0-pruned.ckpt'):\n",
        "  !mkdir SDMODEL\n",
        "  %cd SDMODEL\n",
        "  print(\"Downloading...\")\n",
        "  !wget https://huggingface.co/Linaqruf/anything-v3.0/resolve/main/Anything-V3.0-pruned.ckpt\n",
        "  !wget https://huggingface.co/Linaqruf/anything-v3.0/resolve/main/Anything-V3.0.vae.pt\n",
        "\n",
        "%cd /content/drive/MyDrive\n",
        "if not os.path.exists('SDMODEL/Anything-V3.0-pruned.ckpt'):\n",
        "  print(\"???\")\n",
        "\n",
        "!cp /content/drive/MyDrive/SDMODEL/Anything-V3.0-pruned.ckpt /content/stable-diffusion-webui/models/Stable-diffusion/\n",
        "!cp /content/drive/MyDrive/SDMODEL/Anything-V3.0.vae.pt /content/stable-diffusion-webui/models/Stable-diffusion/"
      ],
      "metadata": {
        "id": "eozIo3csXXbP"
      },
      "execution_count": null,
      "outputs": []
    },
    {
      "cell_type": "code",
      "source": [
        "#Existing WorkSpace - Drive\n",
        "\n",
        "!pip install -q https://github.com/camenduru/stable-diffusion-webui-colab/releases/download/0.0.15/xformers-0.0.15.dev0+189828c.d20221207-cp38-cp38-linux_x86_64.whl\n",
        "!cp --recursive /content/drive/MyDrive/stable-diffusion-webui /content"
      ],
      "metadata": {
        "id": "M6DLeH24B5mV"
      },
      "execution_count": null,
      "outputs": []
    },
    {
      "cell_type": "code",
      "source": [
        "%cd /content/stable-diffusion-webui\n",
        "!COMMANDLINE_ARGS=\"--share --xformers\" REQS_FILE=\"requirements.txt\" python launch.py"
      ],
      "metadata": {
        "id": "IZGJHJaXeIr-"
      },
      "execution_count": null,
      "outputs": []
    }
  ]
}